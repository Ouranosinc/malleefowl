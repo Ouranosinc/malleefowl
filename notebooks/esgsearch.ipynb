{
 "cells": [
  {
   "cell_type": "code",
   "execution_count": 3,
   "metadata": {
    "collapsed": true
   },
   "outputs": [],
   "source": [
    "sync_req_url = \"http://localhost:8091/wps?\" +\\\n",
    "    \"request=Execute\" +\\\n",
    "    \"&service=WPS\" +\\\n",
    "    \"&version=1.0.0\" +\\\n",
    "    \"&identifier=esgsearch\" +\\\n",
    "    \"&DataInputs=url={url};search_type={search_type};constraints={constraints}\" +\\\n",
    "    \"&storeExecuteResponse=false\" +\\\n",
    "    \"&status=false\""
   ]
  },
  {
   "cell_type": "code",
   "execution_count": 4,
   "metadata": {
    "collapsed": false
   },
   "outputs": [
    {
     "name": "stdout",
     "output_type": "stream",
     "text": [
      "http://localhost:8091/wps?request=Execute&service=WPS&version=1.0.0&identifier=esgsearch&DataInputs=url=http://esgf-data.dkrz.de/esg-search;search_type=File;constraints=project:CORDEX&storeExecuteResponse=false&status=false\n"
     ]
    }
   ],
   "source": [
    "url=sync_req_url.format(\n",
    "    url='http://esgf-data.dkrz.de/esg-search',\n",
    "    search_type='File',\n",
    "    constraints='project:CORDEX')\n",
    "print url  "
   ]
  },
  {
   "cell_type": "code",
   "execution_count": null,
   "metadata": {
    "collapsed": true
   },
   "outputs": [],
   "source": []
  }
 ],
 "metadata": {
  "kernelspec": {
   "display_name": "Python 2",
   "language": "python",
   "name": "python2"
  },
  "language_info": {
   "codemirror_mode": {
    "name": "ipython",
    "version": 2
   },
   "file_extension": ".py",
   "mimetype": "text/x-python",
   "name": "python",
   "nbconvert_exporter": "python",
   "pygments_lexer": "ipython2",
   "version": "2.7.10"
  }
 },
 "nbformat": 4,
 "nbformat_minor": 0
}
